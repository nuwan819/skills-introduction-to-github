{
  "cells": [
    {
      "cell_type": "markdown",
      "metadata": {
        "id": "VECit5bbaxrv"
      },
      "source": [
        "# Training"
      ]
    },
    {
      "cell_type": "markdown",
      "metadata": {
        "id": "dNXAvusBaxrw"
      },
      "source": [
        "[![Open In Colab](https://colab.research.google.com/assets/colab-badge.svg)](https://colab.research.google.com/github/chemprop/chemprop/blob/main/examples/training.ipynb)"
      ]
    },
    {
      "cell_type": "code",
      "execution_count": null,
      "metadata": {
        "id": "8NUpS2hhaxrx",
        "outputId": "e6da129f-c0ad-4bc0-ba83-4cd91e9df6a0",
        "colab": {
          "base_uri": "https://localhost:8080/"
        }
      },
      "outputs": [
        {
          "output_type": "stream",
          "name": "stdout",
          "text": [
            "Cloning into 'chemprop'...\n",
            "remote: Enumerating objects: 25238, done.\u001b[K\n",
            "remote: Counting objects: 100% (340/340), done.\u001b[K\n",
            "remote: Compressing objects: 100% (224/224), done.\u001b[K\n"
          ]
        }
      ],
      "source": [
        "# Install chemprop from GitHub if running in Google Colab\n",
        "import os\n",
        "\n",
        "if os.getenv(\"COLAB_RELEASE_TAG\"):\n",
        "    try:\n",
        "        import chemprop\n",
        "    except ImportError:\n",
        "        !git clone https://github.com/chemprop/chemprop.git\n",
        "        %cd chemprop\n",
        "        !pip install .\n",
        "        %cd examples"
      ]
    },
    {
      "cell_type": "markdown",
      "metadata": {
        "id": "05kTPpbJaxry"
      },
      "source": [
        "# Import packages"
      ]
    },
    {
      "cell_type": "code",
      "execution_count": null,
      "metadata": {
        "id": "bit3G2Gpaxry"
      },
      "outputs": [],
      "source": [
        "from pathlib import Path\n",
        "\n",
        "from lightning import pytorch as pl\n",
        "from lightning.pytorch.callbacks import ModelCheckpoint\n",
        "import pandas as pd\n",
        "\n",
        "from chemprop import data, featurizers, models, nn"
      ]
    },
    {
      "cell_type": "markdown",
      "metadata": {
        "id": "-oUD7vJTaxry"
      },
      "source": [
        "# Change data inputs here"
      ]
    },
    {
      "cell_type": "code",
      "execution_count": null,
      "metadata": {
        "id": "pdiOkoO_axry"
      },
      "outputs": [],
      "source": [
        "chemprop_dir = Path.cwd().parent\n",
        "input_path = chemprop_dir / \"tests\" / \"data\" / \"regression\" / \"mol\" / \"mol.csv\" # path to your data .csv file\n",
        "num_workers = 0 # number of workers for dataloader. 0 means using main process for data loading\n",
        "smiles_column = 'smiles' # name of the column containing SMILES strings\n",
        "target_columns = ['lipo'] # list of names of the columns containing targets"
      ]
    },
    {
      "cell_type": "markdown",
      "metadata": {
        "id": "Krg_LvYfaxry"
      },
      "source": [
        "## Load data"
      ]
    },
    {
      "cell_type": "code",
      "execution_count": null,
      "metadata": {
        "id": "_jqWmuF2axrz"
      },
      "outputs": [],
      "source": [
        "df_input = pd.read_csv(input_path)\n",
        "df_input"
      ]
    },
    {
      "cell_type": "markdown",
      "metadata": {
        "id": "EOVlSdqGaxrz"
      },
      "source": [
        "## Get SMILES and targets"
      ]
    },
    {
      "cell_type": "code",
      "execution_count": null,
      "metadata": {
        "id": "HZ5JcpV8axrz"
      },
      "outputs": [],
      "source": [
        "smis = df_input.loc[:, smiles_column].values\n",
        "ys = df_input.loc[:, target_columns].values"
      ]
    },
    {
      "cell_type": "code",
      "execution_count": null,
      "metadata": {
        "id": "gUhZtpmvaxrz"
      },
      "outputs": [],
      "source": [
        "smis[:5] # show first 5 SMILES strings"
      ]
    },
    {
      "cell_type": "code",
      "execution_count": null,
      "metadata": {
        "id": "s0bLOYAQaxr0"
      },
      "outputs": [],
      "source": [
        "ys[:5] # show first 5 targets"
      ]
    },
    {
      "cell_type": "markdown",
      "metadata": {
        "id": "Hkowxci9axr0"
      },
      "source": [
        "## Get molecule datapoints"
      ]
    },
    {
      "cell_type": "code",
      "execution_count": null,
      "metadata": {
        "id": "qai7dcOlaxr0"
      },
      "outputs": [],
      "source": [
        "all_data = [data.MoleculeDatapoint.from_smi(smi, y) for smi, y in zip(smis, ys)]"
      ]
    },
    {
      "cell_type": "markdown",
      "metadata": {
        "id": "7568uCOCaxr0"
      },
      "source": [
        "## Perform data splitting for training, validation, and testing"
      ]
    },
    {
      "cell_type": "code",
      "execution_count": null,
      "metadata": {
        "id": "8xSQJq3Maxr0"
      },
      "outputs": [],
      "source": [
        "# available split types\n",
        "list(data.SplitType.keys())"
      ]
    },
    {
      "cell_type": "markdown",
      "metadata": {
        "id": "2L7zI4C9axr0"
      },
      "source": [
        "ChemProp's `make_split_indices` function will always return a two- (if no validation) or three-length tuple.\n",
        "Each member is a list of length `num_replicates`.\n",
        "The inner lists then contain the actual indices for splitting.\n",
        "\n",
        "The type signature for this return type is `tuple[list[list[int]], ...]`."
      ]
    },
    {
      "cell_type": "code",
      "execution_count": null,
      "metadata": {
        "id": "Ko8qJpRXaxr0"
      },
      "outputs": [],
      "source": [
        "mols = [d.mol for d in all_data]  # RDkit Mol objects are use for structure based splits\n",
        "train_indices, val_indices, test_indices = data.make_split_indices(mols, \"random\", (0.8, 0.1, 0.1))  # unpack the tuple into three separate lists\n",
        "train_data, val_data, test_data = data.split_data_by_indices(\n",
        "    all_data, train_indices, val_indices, test_indices\n",
        ")"
      ]
    },
    {
      "cell_type": "markdown",
      "metadata": {
        "id": "HsRKtIDkaxr0"
      },
      "source": [
        "ChemProp's splitting function implements our preferred method of data splitting, which is random replication.\n",
        "It's also possible to add your own custom cross-validation splitter, such as one of those as implemented in scikit-learn, as long as you get the data into the same `tuple[list[list[int]], ...]` data format with something like this:"
      ]
    },
    {
      "cell_type": "code",
      "execution_count": null,
      "metadata": {
        "id": "Yh9TNuNBaxr0"
      },
      "outputs": [],
      "source": [
        "from sklearn.model_selection import KFold\n",
        "\n",
        "k_splits = KFold(n_splits=5)\n",
        "k_train_indices, k_val_indices, k_test_indices = [], [], []\n",
        "for fold in k_splits.split(mols):\n",
        "    k_train_indices.append(fold[0])\n",
        "    k_val_indices.append([])\n",
        "    k_test_indices.append(fold[1])\n",
        "k_train_data, _, k_test_data = data.split_data_by_indices(\n",
        "    all_data, k_train_indices, None, k_test_indices\n",
        ")"
      ]
    },
    {
      "cell_type": "markdown",
      "metadata": {
        "id": "x5gsJ4j7axr0"
      },
      "source": [
        "## Get MoleculeDataset\n",
        "Recall that the data is in a list equal in length to the number of replicates, so we select the zero index of the list to get the first replicate."
      ]
    },
    {
      "cell_type": "code",
      "execution_count": null,
      "metadata": {
        "id": "QEc-Ll1kaxr0"
      },
      "outputs": [],
      "source": [
        "featurizer = featurizers.SimpleMoleculeMolGraphFeaturizer()\n",
        "\n",
        "train_dset = data.MoleculeDataset(train_data[0], featurizer)\n",
        "scaler = train_dset.normalize_targets()\n",
        "\n",
        "val_dset = data.MoleculeDataset(val_data[0], featurizer)\n",
        "val_dset.normalize_targets(scaler)\n",
        "\n",
        "test_dset = data.MoleculeDataset(test_data[0], featurizer)"
      ]
    },
    {
      "cell_type": "markdown",
      "metadata": {
        "id": "fsaGdLUgaxr0"
      },
      "source": [
        "## Get DataLoader"
      ]
    },
    {
      "cell_type": "code",
      "execution_count": null,
      "metadata": {
        "id": "-wXorWSzaxr0"
      },
      "outputs": [],
      "source": [
        "train_loader = data.build_dataloader(train_dset, num_workers=num_workers)\n",
        "val_loader = data.build_dataloader(val_dset, num_workers=num_workers, shuffle=False)\n",
        "test_loader = data.build_dataloader(test_dset, num_workers=num_workers, shuffle=False)"
      ]
    },
    {
      "cell_type": "markdown",
      "metadata": {
        "id": "5KrSjxelaxr0"
      },
      "source": [
        "# Change Message-Passing Neural Network (MPNN) inputs here"
      ]
    },
    {
      "cell_type": "markdown",
      "metadata": {
        "id": "H1Ye860Iaxr0"
      },
      "source": [
        "## Message Passing\n",
        "A `Message passing` constructs molecular graphs using message passing to learn node-level hidden representations.\n",
        "\n",
        "Options are `mp = nn.BondMessagePassing()` or `mp = nn.AtomMessagePassing()`"
      ]
    },
    {
      "cell_type": "code",
      "execution_count": null,
      "metadata": {
        "id": "pUPlbjnWaxr0"
      },
      "outputs": [],
      "source": [
        "mp = nn.BondMessagePassing()"
      ]
    },
    {
      "cell_type": "markdown",
      "metadata": {
        "id": "sG9MjzuZaxr1"
      },
      "source": [
        "## Aggregation\n",
        "An `Aggregation` is responsible for constructing a graph-level representation from the set of node-level representations after message passing.\n",
        "\n",
        "Available options can be found in ` nn.agg.AggregationRegistry`, including\n",
        "- `agg = nn.MeanAggregation()`\n",
        "- `agg = nn.SumAggregation()`\n",
        "- `agg = nn.NormAggregation()`"
      ]
    },
    {
      "cell_type": "code",
      "execution_count": null,
      "metadata": {
        "id": "0vAsReC-axr1"
      },
      "outputs": [],
      "source": [
        "print(nn.agg.AggregationRegistry)"
      ]
    },
    {
      "cell_type": "code",
      "execution_count": null,
      "metadata": {
        "id": "mFmSC3qPaxr1"
      },
      "outputs": [],
      "source": [
        "agg = nn.MeanAggregation()"
      ]
    },
    {
      "cell_type": "markdown",
      "metadata": {
        "id": "_Sfx7TaJaxr1"
      },
      "source": [
        "## Feed-Forward Network (FFN)\n",
        "\n",
        "A `FFN` takes the aggregated representations and make target predictions.\n",
        "\n",
        "Available options can be found in `nn.PredictorRegistry`.\n",
        "\n",
        "For regression:\n",
        "- `ffn = nn.RegressionFFN()`\n",
        "- `ffn = nn.MveFFN()`\n",
        "- `ffn = nn.EvidentialFFN()`\n",
        "\n",
        "For classification:\n",
        "- `ffn = nn.BinaryClassificationFFN()`\n",
        "- `ffn = nn.BinaryDirichletFFN()`\n",
        "- `ffn = nn.MulticlassClassificationFFN()`\n",
        "- `ffn = nn.MulticlassDirichletFFN()`\n",
        "\n",
        "For spectral:\n",
        "- `ffn = nn.SpectralFFN()` # will be available in future version"
      ]
    },
    {
      "cell_type": "code",
      "execution_count": null,
      "metadata": {
        "id": "PRMX4Ikmaxr1"
      },
      "outputs": [],
      "source": [
        "print(nn.PredictorRegistry)"
      ]
    },
    {
      "cell_type": "code",
      "execution_count": null,
      "metadata": {
        "id": "-gmEJL51axr1"
      },
      "outputs": [],
      "source": [
        "output_transform = nn.UnscaleTransform.from_standard_scaler(scaler)"
      ]
    },
    {
      "cell_type": "code",
      "execution_count": null,
      "metadata": {
        "id": "VQwc50CRaxr1"
      },
      "outputs": [],
      "source": [
        "ffn = nn.RegressionFFN(output_transform=output_transform)"
      ]
    },
    {
      "cell_type": "markdown",
      "metadata": {
        "id": "QKBuhk0Vaxr1"
      },
      "source": [
        "## Batch Norm\n",
        "A `Batch Norm` normalizes the outputs of the aggregation by re-centering and re-scaling.\n",
        "\n",
        "Whether to use batch norm"
      ]
    },
    {
      "cell_type": "code",
      "execution_count": null,
      "metadata": {
        "id": "kfbHhKCUaxr1"
      },
      "outputs": [],
      "source": [
        "batch_norm = True"
      ]
    },
    {
      "cell_type": "markdown",
      "metadata": {
        "id": "tthRgaSxaxr1"
      },
      "source": [
        "## Metrics\n",
        "`Metrics` are the ways to evaluate the performance of model predictions.\n",
        "\n",
        "Available options can be found in `metrics.MetricRegistry`, including"
      ]
    },
    {
      "cell_type": "code",
      "execution_count": null,
      "metadata": {
        "id": "lOPmi-j5axr1"
      },
      "outputs": [],
      "source": [
        "print(nn.metrics.MetricRegistry)"
      ]
    },
    {
      "cell_type": "code",
      "execution_count": null,
      "metadata": {
        "id": "2v6nw0XUaxr6"
      },
      "outputs": [],
      "source": [
        "metric_list = [nn.metrics.RMSE(), nn.metrics.MAE()] # Only the first metric is used for training and early stopping"
      ]
    },
    {
      "cell_type": "markdown",
      "metadata": {
        "id": "I28qtuTzaxr6"
      },
      "source": [
        "## Constructs MPNN"
      ]
    },
    {
      "cell_type": "code",
      "execution_count": null,
      "metadata": {
        "id": "2UAtsTUcaxr6"
      },
      "outputs": [],
      "source": [
        "mpnn = models.MPNN(mp, agg, ffn, batch_norm, metric_list)\n",
        "mpnn"
      ]
    },
    {
      "cell_type": "markdown",
      "metadata": {
        "id": "mgdi032paxr6"
      },
      "source": [
        "# Set up trainer"
      ]
    },
    {
      "cell_type": "code",
      "execution_count": null,
      "metadata": {
        "id": "gFiBuV3baxr6"
      },
      "outputs": [],
      "source": [
        "# Configure model checkpointing\n",
        "checkpointing = ModelCheckpoint(\n",
        "    \"checkpoints\",  # Directory where model checkpoints will be saved\n",
        "    \"best-{epoch}-{val_loss:.2f}\",  # Filename format for checkpoints, including epoch and validation loss\n",
        "    \"val_loss\",  # Metric used to select the best checkpoint (based on validation loss)\n",
        "    mode=\"min\",  # Save the checkpoint with the lowest validation loss (minimization objective)\n",
        "    save_last=True,  # Always save the most recent checkpoint, even if it's not the best\n",
        ")\n",
        "\n",
        "\n",
        "trainer = pl.Trainer(\n",
        "    logger=False,\n",
        "    enable_checkpointing=True, # Use `True` if you want to save model checkpoints. The checkpoints will be saved in the `checkpoints` folder.\n",
        "    enable_progress_bar=True,\n",
        "    accelerator=\"auto\",\n",
        "    devices=1,\n",
        "    max_epochs=20, # number of epochs to train for\n",
        "    callbacks=[checkpointing], # Use the configured checkpoint callback\n",
        ")"
      ]
    },
    {
      "cell_type": "markdown",
      "metadata": {
        "id": "L8xCUejHaxr6"
      },
      "source": [
        "# Start training"
      ]
    },
    {
      "cell_type": "code",
      "execution_count": null,
      "metadata": {
        "id": "OMK3B7k5axr6"
      },
      "outputs": [],
      "source": [
        "trainer.fit(mpnn, train_loader, val_loader)"
      ]
    },
    {
      "cell_type": "markdown",
      "metadata": {
        "id": "8wlv4CT5axr6"
      },
      "source": [
        "# Test results"
      ]
    },
    {
      "cell_type": "code",
      "execution_count": null,
      "metadata": {
        "id": "NbjuryK_axr6"
      },
      "outputs": [],
      "source": [
        "results = trainer.test(dataloaders=test_loader)"
      ]
    }
  ],
  "metadata": {
    "kernelspec": {
      "display_name": "chemprop",
      "language": "python",
      "name": "python3"
    },
    "language_info": {
      "codemirror_mode": {
        "name": "ipython",
        "version": 3
      },
      "file_extension": ".py",
      "mimetype": "text/x-python",
      "name": "python",
      "nbconvert_exporter": "python",
      "pygments_lexer": "ipython3",
      "version": "3.11.8"
    },
    "orig_nbformat": 4,
    "colab": {
      "provenance": []
    }
  },
  "nbformat": 4,
  "nbformat_minor": 0
}